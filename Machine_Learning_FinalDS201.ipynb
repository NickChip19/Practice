{
  "nbformat": 4,
  "nbformat_minor": 0,
  "metadata": {
    "colab": {
      "provenance": [],
      "authorship_tag": "ABX9TyOPStgI7FUM6RZrR5osCbxY",
      "include_colab_link": true
    },
    "kernelspec": {
      "name": "python3",
      "display_name": "Python 3"
    },
    "language_info": {
      "name": "python"
    }
  },
  "cells": [
    {
      "cell_type": "markdown",
      "metadata": {
        "id": "view-in-github",
        "colab_type": "text"
      },
      "source": [
        "<a href=\"https://colab.research.google.com/github/NickChip19/Practice/blob/main/Machine_Learning_FinalDS201.ipynb\" target=\"_parent\"><img src=\"https://colab.research.google.com/assets/colab-badge.svg\" alt=\"Open In Colab\"/></a>"
      ]
    },
    {
      "cell_type": "markdown",
      "source": [
        "#Machine Learning Model(Binary Classification)\n",
        "\n",
        "Credit risk classification – whether the client is evaluated to be in the good risk category vs. bad risk category.\n",
        "\n",
        "0 = Good\n",
        "1 = Bad"
      ],
      "metadata": {
        "id": "BjDpfRX_VgXA"
      }
    },
    {
      "cell_type": "markdown",
      "source": [
        "Import Data From Drive"
      ],
      "metadata": {
        "id": "A1ue-41V0iaP"
      }
    },
    {
      "cell_type": "code",
      "execution_count": null,
      "metadata": {
        "id": "ozD6m93ki7TO"
      },
      "outputs": [],
      "source": [
        "import matplotlib.pyplot as plt\n",
        "import pandas as pd\n",
        "import numpy as np\n",
        "import sklearn as sk\n",
        "import pandas as pd\n",
        "import os\n",
        "\n",
        "\n",
        "# Visualisation Libraries\n",
        "import matplotlib as mpl\n",
        "import seaborn as sns\n",
        "import warnings\n",
        "warnings.simplefilter('ignore')\n",
        "\n",
        "# ML Algorithm & Metrics Libraries\n",
        "from sklearn.model_selection import train_test_split\n",
        "from sklearn.model_selection import cross_val_predict\n",
        "# from sklearn.linear_model import Lasso, Ridge\n",
        "from sklearn import metrics\n",
        "from sklearn.metrics import confusion_matrix\n",
        "from sklearn.metrics import accuracy_score, precision_score, recall_score, f1_score\n",
        "from sklearn.metrics import precision_recall_curve\n",
        "from sklearn.metrics import auc\n",
        "from sklearn.metrics import roc_curve\n",
        "from sklearn.preprocessing import StandardScaler, MinMaxScaler\n",
        "from sklearn.pipeline import Pipeline\n",
        "\n",
        "from sklearn.naive_bayes import GaussianNB\n",
        "from sklearn.ensemble import RandomForestClassifier\n",
        "from sklearn.model_selection import RandomizedSearchCV\n",
        "from sklearn.tree import DecisionTreeClassifier\n",
        "from sklearn.linear_model import LogisticRegression\n",
        "from sklearn.neighbors import KNeighborsClassifier\n",
        "from sklearn.ensemble import GradientBoostingClassifier\n",
        "from sklearn.svm import SVC\n",
        "\n"
      ]
    },
    {
      "cell_type": "code",
      "source": [
        "from google.colab import drive \n",
        "drive.mount('/content/gdrive')\n",
        "dataset=pd.read_csv('gdrive/My Drive/germancode.csv')"
      ],
      "metadata": {
        "colab": {
          "base_uri": "https://localhost:8080/"
        },
        "id": "SWzUFncsYwFd",
        "outputId": "718d141c-27f4-4cea-f5d2-7df8f82016a3"
      },
      "execution_count": null,
      "outputs": [
        {
          "output_type": "stream",
          "name": "stdout",
          "text": [
            "Mounted at /content/gdrive\n"
          ]
        }
      ]
    },
    {
      "cell_type": "markdown",
      "source": [
        "Dataset Analysis\n",
        "\n",
        "Split target variable and explanatory variables"
      ],
      "metadata": {
        "id": "nLYkrgh1aIDV"
      }
    },
    {
      "cell_type": "code",
      "source": [
        "\n",
        "y = dataset.iloc[:,20]\n",
        "X = dataset.iloc[:,:20]\n"
      ],
      "metadata": {
        "id": "hXCC2Oszl416"
      },
      "execution_count": null,
      "outputs": []
    },
    {
      "cell_type": "code",
      "source": [
        "list(dataset.keys())"
      ],
      "metadata": {
        "colab": {
          "base_uri": "https://localhost:8080/"
        },
        "id": "HOJSuysJp1R1",
        "outputId": "89733578-0790-484c-9d11-a86a26aae064"
      },
      "execution_count": null,
      "outputs": [
        {
          "output_type": "execute_result",
          "data": {
            "text/plain": [
              "['Status of existing checking account',\n",
              " 'Duration in month',\n",
              " 'Credit history',\n",
              " 'Purpose',\n",
              " 'Credit amount',\n",
              " 'Savings account/bonds',\n",
              " 'Present employment since',\n",
              " 'Installment rate in percentage of disposable income',\n",
              " 'Personal status and sex',\n",
              " 'Other debtors / guarantors',\n",
              " 'Present residence since',\n",
              " 'Property',\n",
              " 'Age in years',\n",
              " 'Other installment plans',\n",
              " 'Housing',\n",
              " 'Number of existing credits at this bank',\n",
              " 'Job',\n",
              " 'Number of people being liable to provide maintenance for',\n",
              " 'Telephone',\n",
              " 'foreign worker',\n",
              " 'risk']"
            ]
          },
          "metadata": {},
          "execution_count": 5
        }
      ]
    },
    {
      "cell_type": "code",
      "source": [
        "dataset.describe()"
      ],
      "metadata": {
        "colab": {
          "base_uri": "https://localhost:8080/",
          "height": 498
        },
        "id": "UGdRcaW8o0x9",
        "outputId": "78025551-fa28-44ca-9dd7-8430fc8cb6a3"
      },
      "execution_count": null,
      "outputs": [
        {
          "output_type": "execute_result",
          "data": {
            "text/plain": [
              "       Status of existing checking account  Duration in month  Credit history  \\\n",
              "count                          1000.000000        1000.000000      1000.00000   \n",
              "mean                              2.577000          16.143000         3.54500   \n",
              "std                               1.257638          13.610062         1.08312   \n",
              "min                               1.000000           1.000000         1.00000   \n",
              "25%                               1.000000           6.000000         3.00000   \n",
              "50%                               2.000000          12.000000         3.00000   \n",
              "75%                               4.000000          18.000000         5.00000   \n",
              "max                               4.000000          72.000000         5.00000   \n",
              "\n",
              "           Purpose  Credit amount  Savings account/bonds  \\\n",
              "count  1000.000000    1000.000000            1000.000000   \n",
              "mean      3.828000    3271.258000               2.105000   \n",
              "std       2.744439    2822.736876               1.580023   \n",
              "min       1.000000     250.000000               1.000000   \n",
              "25%       2.000000    1365.500000               1.000000   \n",
              "50%       3.000000    2319.500000               1.000000   \n",
              "75%       4.000000    3972.250000               3.000000   \n",
              "max      11.000000   18424.000000               5.000000   \n",
              "\n",
              "       Present employment since  \\\n",
              "count               1000.000000   \n",
              "mean                   2.384000   \n",
              "std                    1.208306   \n",
              "min                    0.000000   \n",
              "25%                    2.000000   \n",
              "50%                    2.000000   \n",
              "75%                    4.000000   \n",
              "max                    4.000000   \n",
              "\n",
              "       Installment rate in percentage of disposable income  \\\n",
              "count                                        1000.000000     \n",
              "mean                                            2.973000     \n",
              "std                                             1.118715     \n",
              "min                                             1.000000     \n",
              "25%                                             2.000000     \n",
              "50%                                             3.000000     \n",
              "75%                                             4.000000     \n",
              "max                                             4.000000     \n",
              "\n",
              "       Personal status and sex  Other debtors / guarantors  ...     Property  \\\n",
              "count               1000.00000                 1000.000000  ...  1000.000000   \n",
              "mean                   2.68200                    0.145000  ...     2.358000   \n",
              "std                    0.70808                    0.477706  ...     1.050209   \n",
              "min                    1.00000                    0.000000  ...     1.000000   \n",
              "25%                    2.00000                    0.000000  ...     1.000000   \n",
              "50%                    3.00000                    0.000000  ...     2.000000   \n",
              "75%                    3.00000                    0.000000  ...     3.000000   \n",
              "max                    4.00000                    2.000000  ...     4.000000   \n",
              "\n",
              "       Age in years  Other installment plans      Housing  \\\n",
              "count   1000.000000              1000.000000  1000.000000   \n",
              "mean      30.646000                 2.675000     1.929000   \n",
              "std       16.929835                 0.705601     0.531264   \n",
              "min        1.000000                 1.000000     1.000000   \n",
              "25%       26.000000                 3.000000     2.000000   \n",
              "50%       31.000000                 3.000000     2.000000   \n",
              "75%       39.000000                 3.000000     2.000000   \n",
              "max       75.000000                 3.000000     3.000000   \n",
              "\n",
              "       Number of existing credits at this bank          Job  \\\n",
              "count                              1000.000000  1000.000000   \n",
              "mean                                  1.407000     1.904000   \n",
              "std                                   0.577654     0.653614   \n",
              "min                                   1.000000     0.000000   \n",
              "25%                                   1.000000     2.000000   \n",
              "50%                                   1.000000     2.000000   \n",
              "75%                                   2.000000     2.000000   \n",
              "max                                   4.000000     3.000000   \n",
              "\n",
              "       Number of people being liable to provide maintenance for    Telephone  \\\n",
              "count                                        1000.000000         1000.000000   \n",
              "mean                                            1.155000            0.404000   \n",
              "std                                             0.362086            0.490943   \n",
              "min                                             1.000000            0.000000   \n",
              "25%                                             1.000000            0.000000   \n",
              "50%                                             1.000000            0.000000   \n",
              "75%                                             1.000000            1.000000   \n",
              "max                                             2.000000            1.000000   \n",
              "\n",
              "       foreign worker         risk  \n",
              "count     1000.000000  1000.000000  \n",
              "mean         0.963000     0.300000  \n",
              "std          0.188856     0.458487  \n",
              "min          0.000000     0.000000  \n",
              "25%          1.000000     0.000000  \n",
              "50%          1.000000     0.000000  \n",
              "75%          1.000000     1.000000  \n",
              "max          1.000000     1.000000  \n",
              "\n",
              "[8 rows x 21 columns]"
            ],
            "text/html": [
              "\n",
              "  <div id=\"df-29708dd2-b610-434d-9218-db623769ef45\">\n",
              "    <div class=\"colab-df-container\">\n",
              "      <div>\n",
              "<style scoped>\n",
              "    .dataframe tbody tr th:only-of-type {\n",
              "        vertical-align: middle;\n",
              "    }\n",
              "\n",
              "    .dataframe tbody tr th {\n",
              "        vertical-align: top;\n",
              "    }\n",
              "\n",
              "    .dataframe thead th {\n",
              "        text-align: right;\n",
              "    }\n",
              "</style>\n",
              "<table border=\"1\" class=\"dataframe\">\n",
              "  <thead>\n",
              "    <tr style=\"text-align: right;\">\n",
              "      <th></th>\n",
              "      <th>Status of existing checking account</th>\n",
              "      <th>Duration in month</th>\n",
              "      <th>Credit history</th>\n",
              "      <th>Purpose</th>\n",
              "      <th>Credit amount</th>\n",
              "      <th>Savings account/bonds</th>\n",
              "      <th>Present employment since</th>\n",
              "      <th>Installment rate in percentage of disposable income</th>\n",
              "      <th>Personal status and sex</th>\n",
              "      <th>Other debtors / guarantors</th>\n",
              "      <th>...</th>\n",
              "      <th>Property</th>\n",
              "      <th>Age in years</th>\n",
              "      <th>Other installment plans</th>\n",
              "      <th>Housing</th>\n",
              "      <th>Number of existing credits at this bank</th>\n",
              "      <th>Job</th>\n",
              "      <th>Number of people being liable to provide maintenance for</th>\n",
              "      <th>Telephone</th>\n",
              "      <th>foreign worker</th>\n",
              "      <th>risk</th>\n",
              "    </tr>\n",
              "  </thead>\n",
              "  <tbody>\n",
              "    <tr>\n",
              "      <th>count</th>\n",
              "      <td>1000.000000</td>\n",
              "      <td>1000.000000</td>\n",
              "      <td>1000.00000</td>\n",
              "      <td>1000.000000</td>\n",
              "      <td>1000.000000</td>\n",
              "      <td>1000.000000</td>\n",
              "      <td>1000.000000</td>\n",
              "      <td>1000.000000</td>\n",
              "      <td>1000.00000</td>\n",
              "      <td>1000.000000</td>\n",
              "      <td>...</td>\n",
              "      <td>1000.000000</td>\n",
              "      <td>1000.000000</td>\n",
              "      <td>1000.000000</td>\n",
              "      <td>1000.000000</td>\n",
              "      <td>1000.000000</td>\n",
              "      <td>1000.000000</td>\n",
              "      <td>1000.000000</td>\n",
              "      <td>1000.000000</td>\n",
              "      <td>1000.000000</td>\n",
              "      <td>1000.000000</td>\n",
              "    </tr>\n",
              "    <tr>\n",
              "      <th>mean</th>\n",
              "      <td>2.577000</td>\n",
              "      <td>16.143000</td>\n",
              "      <td>3.54500</td>\n",
              "      <td>3.828000</td>\n",
              "      <td>3271.258000</td>\n",
              "      <td>2.105000</td>\n",
              "      <td>2.384000</td>\n",
              "      <td>2.973000</td>\n",
              "      <td>2.68200</td>\n",
              "      <td>0.145000</td>\n",
              "      <td>...</td>\n",
              "      <td>2.358000</td>\n",
              "      <td>30.646000</td>\n",
              "      <td>2.675000</td>\n",
              "      <td>1.929000</td>\n",
              "      <td>1.407000</td>\n",
              "      <td>1.904000</td>\n",
              "      <td>1.155000</td>\n",
              "      <td>0.404000</td>\n",
              "      <td>0.963000</td>\n",
              "      <td>0.300000</td>\n",
              "    </tr>\n",
              "    <tr>\n",
              "      <th>std</th>\n",
              "      <td>1.257638</td>\n",
              "      <td>13.610062</td>\n",
              "      <td>1.08312</td>\n",
              "      <td>2.744439</td>\n",
              "      <td>2822.736876</td>\n",
              "      <td>1.580023</td>\n",
              "      <td>1.208306</td>\n",
              "      <td>1.118715</td>\n",
              "      <td>0.70808</td>\n",
              "      <td>0.477706</td>\n",
              "      <td>...</td>\n",
              "      <td>1.050209</td>\n",
              "      <td>16.929835</td>\n",
              "      <td>0.705601</td>\n",
              "      <td>0.531264</td>\n",
              "      <td>0.577654</td>\n",
              "      <td>0.653614</td>\n",
              "      <td>0.362086</td>\n",
              "      <td>0.490943</td>\n",
              "      <td>0.188856</td>\n",
              "      <td>0.458487</td>\n",
              "    </tr>\n",
              "    <tr>\n",
              "      <th>min</th>\n",
              "      <td>1.000000</td>\n",
              "      <td>1.000000</td>\n",
              "      <td>1.00000</td>\n",
              "      <td>1.000000</td>\n",
              "      <td>250.000000</td>\n",
              "      <td>1.000000</td>\n",
              "      <td>0.000000</td>\n",
              "      <td>1.000000</td>\n",
              "      <td>1.00000</td>\n",
              "      <td>0.000000</td>\n",
              "      <td>...</td>\n",
              "      <td>1.000000</td>\n",
              "      <td>1.000000</td>\n",
              "      <td>1.000000</td>\n",
              "      <td>1.000000</td>\n",
              "      <td>1.000000</td>\n",
              "      <td>0.000000</td>\n",
              "      <td>1.000000</td>\n",
              "      <td>0.000000</td>\n",
              "      <td>0.000000</td>\n",
              "      <td>0.000000</td>\n",
              "    </tr>\n",
              "    <tr>\n",
              "      <th>25%</th>\n",
              "      <td>1.000000</td>\n",
              "      <td>6.000000</td>\n",
              "      <td>3.00000</td>\n",
              "      <td>2.000000</td>\n",
              "      <td>1365.500000</td>\n",
              "      <td>1.000000</td>\n",
              "      <td>2.000000</td>\n",
              "      <td>2.000000</td>\n",
              "      <td>2.00000</td>\n",
              "      <td>0.000000</td>\n",
              "      <td>...</td>\n",
              "      <td>1.000000</td>\n",
              "      <td>26.000000</td>\n",
              "      <td>3.000000</td>\n",
              "      <td>2.000000</td>\n",
              "      <td>1.000000</td>\n",
              "      <td>2.000000</td>\n",
              "      <td>1.000000</td>\n",
              "      <td>0.000000</td>\n",
              "      <td>1.000000</td>\n",
              "      <td>0.000000</td>\n",
              "    </tr>\n",
              "    <tr>\n",
              "      <th>50%</th>\n",
              "      <td>2.000000</td>\n",
              "      <td>12.000000</td>\n",
              "      <td>3.00000</td>\n",
              "      <td>3.000000</td>\n",
              "      <td>2319.500000</td>\n",
              "      <td>1.000000</td>\n",
              "      <td>2.000000</td>\n",
              "      <td>3.000000</td>\n",
              "      <td>3.00000</td>\n",
              "      <td>0.000000</td>\n",
              "      <td>...</td>\n",
              "      <td>2.000000</td>\n",
              "      <td>31.000000</td>\n",
              "      <td>3.000000</td>\n",
              "      <td>2.000000</td>\n",
              "      <td>1.000000</td>\n",
              "      <td>2.000000</td>\n",
              "      <td>1.000000</td>\n",
              "      <td>0.000000</td>\n",
              "      <td>1.000000</td>\n",
              "      <td>0.000000</td>\n",
              "    </tr>\n",
              "    <tr>\n",
              "      <th>75%</th>\n",
              "      <td>4.000000</td>\n",
              "      <td>18.000000</td>\n",
              "      <td>5.00000</td>\n",
              "      <td>4.000000</td>\n",
              "      <td>3972.250000</td>\n",
              "      <td>3.000000</td>\n",
              "      <td>4.000000</td>\n",
              "      <td>4.000000</td>\n",
              "      <td>3.00000</td>\n",
              "      <td>0.000000</td>\n",
              "      <td>...</td>\n",
              "      <td>3.000000</td>\n",
              "      <td>39.000000</td>\n",
              "      <td>3.000000</td>\n",
              "      <td>2.000000</td>\n",
              "      <td>2.000000</td>\n",
              "      <td>2.000000</td>\n",
              "      <td>1.000000</td>\n",
              "      <td>1.000000</td>\n",
              "      <td>1.000000</td>\n",
              "      <td>1.000000</td>\n",
              "    </tr>\n",
              "    <tr>\n",
              "      <th>max</th>\n",
              "      <td>4.000000</td>\n",
              "      <td>72.000000</td>\n",
              "      <td>5.00000</td>\n",
              "      <td>11.000000</td>\n",
              "      <td>18424.000000</td>\n",
              "      <td>5.000000</td>\n",
              "      <td>4.000000</td>\n",
              "      <td>4.000000</td>\n",
              "      <td>4.00000</td>\n",
              "      <td>2.000000</td>\n",
              "      <td>...</td>\n",
              "      <td>4.000000</td>\n",
              "      <td>75.000000</td>\n",
              "      <td>3.000000</td>\n",
              "      <td>3.000000</td>\n",
              "      <td>4.000000</td>\n",
              "      <td>3.000000</td>\n",
              "      <td>2.000000</td>\n",
              "      <td>1.000000</td>\n",
              "      <td>1.000000</td>\n",
              "      <td>1.000000</td>\n",
              "    </tr>\n",
              "  </tbody>\n",
              "</table>\n",
              "<p>8 rows × 21 columns</p>\n",
              "</div>\n",
              "      <button class=\"colab-df-convert\" onclick=\"convertToInteractive('df-29708dd2-b610-434d-9218-db623769ef45')\"\n",
              "              title=\"Convert this dataframe to an interactive table.\"\n",
              "              style=\"display:none;\">\n",
              "        \n",
              "  <svg xmlns=\"http://www.w3.org/2000/svg\" height=\"24px\"viewBox=\"0 0 24 24\"\n",
              "       width=\"24px\">\n",
              "    <path d=\"M0 0h24v24H0V0z\" fill=\"none\"/>\n",
              "    <path d=\"M18.56 5.44l.94 2.06.94-2.06 2.06-.94-2.06-.94-.94-2.06-.94 2.06-2.06.94zm-11 1L8.5 8.5l.94-2.06 2.06-.94-2.06-.94L8.5 2.5l-.94 2.06-2.06.94zm10 10l.94 2.06.94-2.06 2.06-.94-2.06-.94-.94-2.06-.94 2.06-2.06.94z\"/><path d=\"M17.41 7.96l-1.37-1.37c-.4-.4-.92-.59-1.43-.59-.52 0-1.04.2-1.43.59L10.3 9.45l-7.72 7.72c-.78.78-.78 2.05 0 2.83L4 21.41c.39.39.9.59 1.41.59.51 0 1.02-.2 1.41-.59l7.78-7.78 2.81-2.81c.8-.78.8-2.07 0-2.86zM5.41 20L4 18.59l7.72-7.72 1.47 1.35L5.41 20z\"/>\n",
              "  </svg>\n",
              "      </button>\n",
              "      \n",
              "  <style>\n",
              "    .colab-df-container {\n",
              "      display:flex;\n",
              "      flex-wrap:wrap;\n",
              "      gap: 12px;\n",
              "    }\n",
              "\n",
              "    .colab-df-convert {\n",
              "      background-color: #E8F0FE;\n",
              "      border: none;\n",
              "      border-radius: 50%;\n",
              "      cursor: pointer;\n",
              "      display: none;\n",
              "      fill: #1967D2;\n",
              "      height: 32px;\n",
              "      padding: 0 0 0 0;\n",
              "      width: 32px;\n",
              "    }\n",
              "\n",
              "    .colab-df-convert:hover {\n",
              "      background-color: #E2EBFA;\n",
              "      box-shadow: 0px 1px 2px rgba(60, 64, 67, 0.3), 0px 1px 3px 1px rgba(60, 64, 67, 0.15);\n",
              "      fill: #174EA6;\n",
              "    }\n",
              "\n",
              "    [theme=dark] .colab-df-convert {\n",
              "      background-color: #3B4455;\n",
              "      fill: #D2E3FC;\n",
              "    }\n",
              "\n",
              "    [theme=dark] .colab-df-convert:hover {\n",
              "      background-color: #434B5C;\n",
              "      box-shadow: 0px 1px 3px 1px rgba(0, 0, 0, 0.15);\n",
              "      filter: drop-shadow(0px 1px 2px rgba(0, 0, 0, 0.3));\n",
              "      fill: #FFFFFF;\n",
              "    }\n",
              "  </style>\n",
              "\n",
              "      <script>\n",
              "        const buttonEl =\n",
              "          document.querySelector('#df-29708dd2-b610-434d-9218-db623769ef45 button.colab-df-convert');\n",
              "        buttonEl.style.display =\n",
              "          google.colab.kernel.accessAllowed ? 'block' : 'none';\n",
              "\n",
              "        async function convertToInteractive(key) {\n",
              "          const element = document.querySelector('#df-29708dd2-b610-434d-9218-db623769ef45');\n",
              "          const dataTable =\n",
              "            await google.colab.kernel.invokeFunction('convertToInteractive',\n",
              "                                                     [key], {});\n",
              "          if (!dataTable) return;\n",
              "\n",
              "          const docLinkHtml = 'Like what you see? Visit the ' +\n",
              "            '<a target=\"_blank\" href=https://colab.research.google.com/notebooks/data_table.ipynb>data table notebook</a>'\n",
              "            + ' to learn more about interactive tables.';\n",
              "          element.innerHTML = '';\n",
              "          dataTable['output_type'] = 'display_data';\n",
              "          await google.colab.output.renderOutput(dataTable, element);\n",
              "          const docLink = document.createElement('div');\n",
              "          docLink.innerHTML = docLinkHtml;\n",
              "          element.appendChild(docLink);\n",
              "        }\n",
              "      </script>\n",
              "    </div>\n",
              "  </div>\n",
              "  "
            ]
          },
          "metadata": {},
          "execution_count": 6
        }
      ]
    },
    {
      "cell_type": "code",
      "source": [
        "dataset.head()"
      ],
      "metadata": {
        "colab": {
          "base_uri": "https://localhost:8080/",
          "height": 404
        },
        "id": "dH6rE8P9pw3n",
        "outputId": "1ff5dca7-052c-429b-954d-39365ca676f8"
      },
      "execution_count": null,
      "outputs": [
        {
          "output_type": "execute_result",
          "data": {
            "text/plain": [
              "   Status of existing checking account  Duration in month  Credit history  \\\n",
              "0                                    1                  6               5   \n",
              "1                                    2                 48               3   \n",
              "2                                    4                 12               5   \n",
              "3                                    1                  2               3   \n",
              "4                                    1                  4               4   \n",
              "\n",
              "   Purpose  Credit amount  Savings account/bonds  Present employment since  \\\n",
              "0        4           1169                      5                         4   \n",
              "1        4           5951                      1                         2   \n",
              "2        7           2096                      1                         3   \n",
              "3        3           7882                      1                         3   \n",
              "4        1           4870                      1                         2   \n",
              "\n",
              "   Installment rate in percentage of disposable income  \\\n",
              "0                                                  4     \n",
              "1                                                  2     \n",
              "2                                                  2     \n",
              "3                                                  2     \n",
              "4                                                  3     \n",
              "\n",
              "   Personal status and sex  Other debtors / guarantors  ...  Property  \\\n",
              "0                        3                           0  ...         1   \n",
              "1                        2                           0  ...         1   \n",
              "2                        3                           0  ...         1   \n",
              "3                        3                           2  ...         2   \n",
              "4                        3                           0  ...         4   \n",
              "\n",
              "   Age in years  Other installment plans  Housing  \\\n",
              "0            67                        3        2   \n",
              "1             2                        3        2   \n",
              "2            49                        3        2   \n",
              "3            45                        3        3   \n",
              "4            53                        3        3   \n",
              "\n",
              "   Number of existing credits at this bank  Job  \\\n",
              "0                                        2    2   \n",
              "1                                        1    2   \n",
              "2                                        1    1   \n",
              "3                                        1    2   \n",
              "4                                        2    2   \n",
              "\n",
              "   Number of people being liable to provide maintenance for  Telephone  \\\n",
              "0                                                  1                 1   \n",
              "1                                                  1                 0   \n",
              "2                                                  2                 0   \n",
              "3                                                  2                 0   \n",
              "4                                                  2                 0   \n",
              "\n",
              "   foreign worker  risk  \n",
              "0               1     0  \n",
              "1               1     1  \n",
              "2               1     0  \n",
              "3               1     0  \n",
              "4               1     1  \n",
              "\n",
              "[5 rows x 21 columns]"
            ],
            "text/html": [
              "\n",
              "  <div id=\"df-61bf9602-4789-4f5e-aa67-43e01099341c\">\n",
              "    <div class=\"colab-df-container\">\n",
              "      <div>\n",
              "<style scoped>\n",
              "    .dataframe tbody tr th:only-of-type {\n",
              "        vertical-align: middle;\n",
              "    }\n",
              "\n",
              "    .dataframe tbody tr th {\n",
              "        vertical-align: top;\n",
              "    }\n",
              "\n",
              "    .dataframe thead th {\n",
              "        text-align: right;\n",
              "    }\n",
              "</style>\n",
              "<table border=\"1\" class=\"dataframe\">\n",
              "  <thead>\n",
              "    <tr style=\"text-align: right;\">\n",
              "      <th></th>\n",
              "      <th>Status of existing checking account</th>\n",
              "      <th>Duration in month</th>\n",
              "      <th>Credit history</th>\n",
              "      <th>Purpose</th>\n",
              "      <th>Credit amount</th>\n",
              "      <th>Savings account/bonds</th>\n",
              "      <th>Present employment since</th>\n",
              "      <th>Installment rate in percentage of disposable income</th>\n",
              "      <th>Personal status and sex</th>\n",
              "      <th>Other debtors / guarantors</th>\n",
              "      <th>...</th>\n",
              "      <th>Property</th>\n",
              "      <th>Age in years</th>\n",
              "      <th>Other installment plans</th>\n",
              "      <th>Housing</th>\n",
              "      <th>Number of existing credits at this bank</th>\n",
              "      <th>Job</th>\n",
              "      <th>Number of people being liable to provide maintenance for</th>\n",
              "      <th>Telephone</th>\n",
              "      <th>foreign worker</th>\n",
              "      <th>risk</th>\n",
              "    </tr>\n",
              "  </thead>\n",
              "  <tbody>\n",
              "    <tr>\n",
              "      <th>0</th>\n",
              "      <td>1</td>\n",
              "      <td>6</td>\n",
              "      <td>5</td>\n",
              "      <td>4</td>\n",
              "      <td>1169</td>\n",
              "      <td>5</td>\n",
              "      <td>4</td>\n",
              "      <td>4</td>\n",
              "      <td>3</td>\n",
              "      <td>0</td>\n",
              "      <td>...</td>\n",
              "      <td>1</td>\n",
              "      <td>67</td>\n",
              "      <td>3</td>\n",
              "      <td>2</td>\n",
              "      <td>2</td>\n",
              "      <td>2</td>\n",
              "      <td>1</td>\n",
              "      <td>1</td>\n",
              "      <td>1</td>\n",
              "      <td>0</td>\n",
              "    </tr>\n",
              "    <tr>\n",
              "      <th>1</th>\n",
              "      <td>2</td>\n",
              "      <td>48</td>\n",
              "      <td>3</td>\n",
              "      <td>4</td>\n",
              "      <td>5951</td>\n",
              "      <td>1</td>\n",
              "      <td>2</td>\n",
              "      <td>2</td>\n",
              "      <td>2</td>\n",
              "      <td>0</td>\n",
              "      <td>...</td>\n",
              "      <td>1</td>\n",
              "      <td>2</td>\n",
              "      <td>3</td>\n",
              "      <td>2</td>\n",
              "      <td>1</td>\n",
              "      <td>2</td>\n",
              "      <td>1</td>\n",
              "      <td>0</td>\n",
              "      <td>1</td>\n",
              "      <td>1</td>\n",
              "    </tr>\n",
              "    <tr>\n",
              "      <th>2</th>\n",
              "      <td>4</td>\n",
              "      <td>12</td>\n",
              "      <td>5</td>\n",
              "      <td>7</td>\n",
              "      <td>2096</td>\n",
              "      <td>1</td>\n",
              "      <td>3</td>\n",
              "      <td>2</td>\n",
              "      <td>3</td>\n",
              "      <td>0</td>\n",
              "      <td>...</td>\n",
              "      <td>1</td>\n",
              "      <td>49</td>\n",
              "      <td>3</td>\n",
              "      <td>2</td>\n",
              "      <td>1</td>\n",
              "      <td>1</td>\n",
              "      <td>2</td>\n",
              "      <td>0</td>\n",
              "      <td>1</td>\n",
              "      <td>0</td>\n",
              "    </tr>\n",
              "    <tr>\n",
              "      <th>3</th>\n",
              "      <td>1</td>\n",
              "      <td>2</td>\n",
              "      <td>3</td>\n",
              "      <td>3</td>\n",
              "      <td>7882</td>\n",
              "      <td>1</td>\n",
              "      <td>3</td>\n",
              "      <td>2</td>\n",
              "      <td>3</td>\n",
              "      <td>2</td>\n",
              "      <td>...</td>\n",
              "      <td>2</td>\n",
              "      <td>45</td>\n",
              "      <td>3</td>\n",
              "      <td>3</td>\n",
              "      <td>1</td>\n",
              "      <td>2</td>\n",
              "      <td>2</td>\n",
              "      <td>0</td>\n",
              "      <td>1</td>\n",
              "      <td>0</td>\n",
              "    </tr>\n",
              "    <tr>\n",
              "      <th>4</th>\n",
              "      <td>1</td>\n",
              "      <td>4</td>\n",
              "      <td>4</td>\n",
              "      <td>1</td>\n",
              "      <td>4870</td>\n",
              "      <td>1</td>\n",
              "      <td>2</td>\n",
              "      <td>3</td>\n",
              "      <td>3</td>\n",
              "      <td>0</td>\n",
              "      <td>...</td>\n",
              "      <td>4</td>\n",
              "      <td>53</td>\n",
              "      <td>3</td>\n",
              "      <td>3</td>\n",
              "      <td>2</td>\n",
              "      <td>2</td>\n",
              "      <td>2</td>\n",
              "      <td>0</td>\n",
              "      <td>1</td>\n",
              "      <td>1</td>\n",
              "    </tr>\n",
              "  </tbody>\n",
              "</table>\n",
              "<p>5 rows × 21 columns</p>\n",
              "</div>\n",
              "      <button class=\"colab-df-convert\" onclick=\"convertToInteractive('df-61bf9602-4789-4f5e-aa67-43e01099341c')\"\n",
              "              title=\"Convert this dataframe to an interactive table.\"\n",
              "              style=\"display:none;\">\n",
              "        \n",
              "  <svg xmlns=\"http://www.w3.org/2000/svg\" height=\"24px\"viewBox=\"0 0 24 24\"\n",
              "       width=\"24px\">\n",
              "    <path d=\"M0 0h24v24H0V0z\" fill=\"none\"/>\n",
              "    <path d=\"M18.56 5.44l.94 2.06.94-2.06 2.06-.94-2.06-.94-.94-2.06-.94 2.06-2.06.94zm-11 1L8.5 8.5l.94-2.06 2.06-.94-2.06-.94L8.5 2.5l-.94 2.06-2.06.94zm10 10l.94 2.06.94-2.06 2.06-.94-2.06-.94-.94-2.06-.94 2.06-2.06.94z\"/><path d=\"M17.41 7.96l-1.37-1.37c-.4-.4-.92-.59-1.43-.59-.52 0-1.04.2-1.43.59L10.3 9.45l-7.72 7.72c-.78.78-.78 2.05 0 2.83L4 21.41c.39.39.9.59 1.41.59.51 0 1.02-.2 1.41-.59l7.78-7.78 2.81-2.81c.8-.78.8-2.07 0-2.86zM5.41 20L4 18.59l7.72-7.72 1.47 1.35L5.41 20z\"/>\n",
              "  </svg>\n",
              "      </button>\n",
              "      \n",
              "  <style>\n",
              "    .colab-df-container {\n",
              "      display:flex;\n",
              "      flex-wrap:wrap;\n",
              "      gap: 12px;\n",
              "    }\n",
              "\n",
              "    .colab-df-convert {\n",
              "      background-color: #E8F0FE;\n",
              "      border: none;\n",
              "      border-radius: 50%;\n",
              "      cursor: pointer;\n",
              "      display: none;\n",
              "      fill: #1967D2;\n",
              "      height: 32px;\n",
              "      padding: 0 0 0 0;\n",
              "      width: 32px;\n",
              "    }\n",
              "\n",
              "    .colab-df-convert:hover {\n",
              "      background-color: #E2EBFA;\n",
              "      box-shadow: 0px 1px 2px rgba(60, 64, 67, 0.3), 0px 1px 3px 1px rgba(60, 64, 67, 0.15);\n",
              "      fill: #174EA6;\n",
              "    }\n",
              "\n",
              "    [theme=dark] .colab-df-convert {\n",
              "      background-color: #3B4455;\n",
              "      fill: #D2E3FC;\n",
              "    }\n",
              "\n",
              "    [theme=dark] .colab-df-convert:hover {\n",
              "      background-color: #434B5C;\n",
              "      box-shadow: 0px 1px 3px 1px rgba(0, 0, 0, 0.15);\n",
              "      filter: drop-shadow(0px 1px 2px rgba(0, 0, 0, 0.3));\n",
              "      fill: #FFFFFF;\n",
              "    }\n",
              "  </style>\n",
              "\n",
              "      <script>\n",
              "        const buttonEl =\n",
              "          document.querySelector('#df-61bf9602-4789-4f5e-aa67-43e01099341c button.colab-df-convert');\n",
              "        buttonEl.style.display =\n",
              "          google.colab.kernel.accessAllowed ? 'block' : 'none';\n",
              "\n",
              "        async function convertToInteractive(key) {\n",
              "          const element = document.querySelector('#df-61bf9602-4789-4f5e-aa67-43e01099341c');\n",
              "          const dataTable =\n",
              "            await google.colab.kernel.invokeFunction('convertToInteractive',\n",
              "                                                     [key], {});\n",
              "          if (!dataTable) return;\n",
              "\n",
              "          const docLinkHtml = 'Like what you see? Visit the ' +\n",
              "            '<a target=\"_blank\" href=https://colab.research.google.com/notebooks/data_table.ipynb>data table notebook</a>'\n",
              "            + ' to learn more about interactive tables.';\n",
              "          element.innerHTML = '';\n",
              "          dataTable['output_type'] = 'display_data';\n",
              "          await google.colab.output.renderOutput(dataTable, element);\n",
              "          const docLink = document.createElement('div');\n",
              "          docLink.innerHTML = docLinkHtml;\n",
              "          element.appendChild(docLink);\n",
              "        }\n",
              "      </script>\n",
              "    </div>\n",
              "  </div>\n",
              "  "
            ]
          },
          "metadata": {},
          "execution_count": 7
        }
      ]
    },
    {
      "cell_type": "markdown",
      "source": [
        "Split Data into Training and Testing set"
      ],
      "metadata": {
        "id": "eaUdsO3vtXjM"
      }
    },
    {
      "cell_type": "code",
      "source": [
        "X_train, X_test, y_train, y_test = train_test_split(X, y, test_size=0.30, random_state=42)"
      ],
      "metadata": {
        "id": "6oRfXmiOoBYJ"
      },
      "execution_count": null,
      "outputs": []
    },
    {
      "cell_type": "code",
      "source": [
        "print(\"Shape of  X training set: \" + str(X_train.shape))\n",
        "print(\"Shape of X test set: \" + str(X_test.shape))\n",
        "\n",
        "print(\"Shape of  y training set: \" + str(y_train.shape))\n",
        "print(\"Shape of y test set: \" + str(y_test.shape))"
      ],
      "metadata": {
        "colab": {
          "base_uri": "https://localhost:8080/"
        },
        "id": "yXup2p8CdGSX",
        "outputId": "f0d085d7-ba8d-4b8a-d03a-2aed36308d9f"
      },
      "execution_count": null,
      "outputs": [
        {
          "output_type": "stream",
          "name": "stdout",
          "text": [
            "Shape of  X training set: (700, 20)\n",
            "Shape of X test set: (300, 20)\n",
            "Shape of  y training set: (700,)\n",
            "Shape of y test set: (300,)\n"
          ]
        }
      ]
    },
    {
      "cell_type": "code",
      "source": [
        "scaler = StandardScaler()\n",
        "X_train = scaler.fit_transform(X_train)\n",
        "X_test = scaler.transform(X_test)\n"
      ],
      "metadata": {
        "id": "x_xVqb-HiYZA"
      },
      "execution_count": null,
      "outputs": []
    },
    {
      "cell_type": "code",
      "source": [
        "from sklearn.feature_selection import mutual_info_classif\n",
        "mutual_information = mutual_info_classif(X_train, y_train, n_neighbors=5, copy = True)\n",
        "\n",
        "plt.subplots(1, figsize=(28, 1))\n",
        "sns.heatmap(mutual_information[:, np.newaxis].T, cmap='Blues', cbar=False, linewidths=1, annot=True, annot_kws={\"size\": 12})\n",
        "plt.yticks([], [])\n",
        "plt.gca().set_xticklabels(X.columns, rotation=45, ha='right', fontsize=12)\n",
        "plt.suptitle(\"Variable Importance (mutual_info_classif)\", fontsize=12, y=1.2)\n",
        "plt.gcf().subplots_adjust(wspace=0.4)"
      ],
      "metadata": {
        "colab": {
          "base_uri": "https://localhost:8080/",
          "height": 289
        },
        "id": "HZqYMXK8OsEq",
        "outputId": "b111bd9f-fd01-4e3f-fede-5ff05cd4f743"
      },
      "execution_count": null,
      "outputs": [
        {
          "output_type": "display_data",
          "data": {
            "text/plain": [
              "<Figure size 2016x72 with 1 Axes>"
            ],
            "image/png": "[encoded data removed]"
          },
          "metadata": {
            "needs_background": "light"
          }
        }
      ]
    },
    {
      "cell_type": "markdown",
      "source": [
        "Use the most important variables in training set for Binary Classification Models"
      ],
      "metadata": {
        "id": "UYvODXMU00US"
      }
    },
    {
      "cell_type": "code",
      "source": [
        "X_use = dataset[['Status of existing checking account','Duration in month','Credit history','Credit amount','Savings account/bonds','Age in years','Other installment plans']]\n",
        "# split into training & test data\n",
        "Xuse_train, Xuse_test, y_train, y_test = train_test_split(X_use, y, test_size=0.30, random_state=0)\n",
        "# standardise input\n",
        "Xuse_train = scaler.fit_transform(Xuse_train)\n",
        "Xuse_test = scaler.transform(Xuse_test)"
      ],
      "metadata": {
        "id": "pyZ8EpjZPGSw"
      },
      "execution_count": null,
      "outputs": []
    },
    {
      "cell_type": "markdown",
      "source": [
        "#***Training Model***"
      ],
      "metadata": {
        "id": "H9ghgd1qP8Jd"
      }
    },
    {
      "cell_type": "code",
      "source": [
        "def train_model(model,color):\n",
        "    m = model[1]\n",
        "    y_train_pred = cross_val_predict(model[1], Xuse_train, y_train, cv=None)\n",
        "    cm = confusion_matrix(y_train, y_train_pred)\n",
        "    print('Confusion matrix: ' + model[0])\n",
        "    print(cm)\n",
        "    print()\n",
        "    accuracy = accuracy_score(y_train, y_train_pred)\n",
        "    precision = precision_score(y_train, y_train_pred)\n",
        "    recall = recall_score(y_train, y_train_pred)\n",
        "    f1 = f1_score(y_train, y_train_pred)\n",
        "\n",
        "    df_model = [accuracy, precision, recall, f1]\n",
        "    df= pd.DataFrame(df_model,index=['Accuracy','Precision','Recall','F1 score'])\n",
        "    ax = df.plot.bar(rot=0,color=[color])\n",
        "\n",
        "    print(f'{model[0]} Accuracy: {accuracy}')\n",
        "    print(f'{model[0]} Precision: {precision}')\n",
        "    print(f'{model[0]} Recall: {recall}')\n",
        "    print(f'{model[0]} f1 - score: {f1}')\n",
        "    "
      ],
      "metadata": {
        "id": "hWEgpqXlP_Tj"
      },
      "execution_count": null,
      "outputs": []
    },
    {
      "cell_type": "markdown",
      "source": [
        " Random Forest Classifier"
      ],
      "metadata": {
        "id": "vjfMHVI-ijms"
      }
    },
    {
      "cell_type": "code",
      "source": [
        "RF_Model= train_model(('Random Forest', RandomForestClassifier(n_estimators=100,random_state=0, min_samples_split=2,verbose=0)),'#E3CF57')"
      ],
      "metadata": {
        "colab": {
          "base_uri": "https://localhost:8080/",
          "height": 404
        },
        "id": "LxbXWiEKbp7X",
        "outputId": "d254455a-e496-4b11-e047-9a441b38cabe"
      },
      "execution_count": null,
      "outputs": [
        {
          "output_type": "stream",
          "name": "stdout",
          "text": [
            "Confusion matrix: Random Forest\n",
            "[[430  56]\n",
            " [123  91]]\n",
            "\n",
            "Random Forest Accuracy: 0.7442857142857143\n",
            "Random Forest Precision: 0.6190476190476191\n",
            "Random Forest Recall: 0.4252336448598131\n",
            "Random Forest f1 - score: 0.5041551246537397\n"
          ]
        },
        {
          "output_type": "display_data",
          "data": {
            "text/plain": [
              "<Figure size 432x288 with 1 Axes>"
            ],
            "image/png": "[encoded data removed]"
          },
          "metadata": {
            "needs_background": "light"
          }
        }
      ]
    },
    {
      "cell_type": "markdown",
      "source": [
        "Gaussian Naive Bayes"
      ],
      "metadata": {
        "id": "K-l9A_vDio1Y"
      }
    },
    {
      "cell_type": "code",
      "source": [
        "GVB_Model= train_model(('Gaussian Naive Bayes', GaussianNB()),'#F0F8FF')"
      ],
      "metadata": {
        "colab": {
          "base_uri": "https://localhost:8080/",
          "height": 404
        },
        "id": "AJChlJ1Tc-5E",
        "outputId": "38114e77-43e9-4df9-ac36-37ee900e86c7"
      },
      "execution_count": null,
      "outputs": [
        {
          "output_type": "stream",
          "name": "stdout",
          "text": [
            "Confusion matrix: Gaussian Naive Bayes\n",
            "[[419  67]\n",
            " [116  98]]\n",
            "\n",
            "Gaussian Naive Bayes Accuracy: 0.7385714285714285\n",
            "Gaussian Naive Bayes Precision: 0.593939393939394\n",
            "Gaussian Naive Bayes Recall: 0.45794392523364486\n",
            "Gaussian Naive Bayes f1 - score: 0.5171503957783641\n"
          ]
        },
        {
          "output_type": "display_data",
          "data": {
            "text/plain": [
              "<Figure size 432x288 with 1 Axes>"
            ],
            "image/png": "[encoded data removed]"
          },
          "metadata": {
            "needs_background": "light"
          }
        }
      ]
    },
    {
      "cell_type": "markdown",
      "source": [
        "Logistic Regression"
      ],
      "metadata": {
        "id": "aYfJaeUQitq6"
      }
    },
    {
      "cell_type": "code",
      "source": [
        "LR_Model= train_model(('Logistic Regression',LogisticRegression()),'#000000')"
      ],
      "metadata": {
        "colab": {
          "base_uri": "https://localhost:8080/",
          "height": 404
        },
        "id": "lt11ORiFhmnW",
        "outputId": "a6ebbbc6-8a0a-45c8-8ad4-35a3c8342e12"
      },
      "execution_count": null,
      "outputs": [
        {
          "output_type": "stream",
          "name": "stdout",
          "text": [
            "Confusion matrix: Logistic Regression\n",
            "[[428  58]\n",
            " [124  90]]\n",
            "\n",
            "Logistic Regression Accuracy: 0.74\n",
            "Logistic Regression Precision: 0.6081081081081081\n",
            "Logistic Regression Recall: 0.4205607476635514\n",
            "Logistic Regression f1 - score: 0.4972375690607735\n"
          ]
        },
        {
          "output_type": "display_data",
          "data": {
            "text/plain": [
              "<Figure size 432x288 with 1 Axes>"
            ],
            "image/png": "[encoded data removed]"
          },
          "metadata": {
            "needs_background": "light"
          }
        }
      ]
    },
    {
      "cell_type": "markdown",
      "source": [
        "Decision Tree Classifier"
      ],
      "metadata": {
        "id": "VV0slIbXiw3J"
      }
    },
    {
      "cell_type": "code",
      "source": [
        "DCT_Model= train_model(('Decision Tree Classifier',DecisionTreeClassifier(criterion='gini',random_state=21)),'#EE3B3B')"
      ],
      "metadata": {
        "colab": {
          "base_uri": "https://localhost:8080/",
          "height": 404
        },
        "id": "CiFNkCJniESU",
        "outputId": "79cd4964-1429-4f8c-9cab-1dd5b5cbc890"
      },
      "execution_count": null,
      "outputs": [
        {
          "output_type": "stream",
          "name": "stdout",
          "text": [
            "Confusion matrix: Decision Tree Classifier\n",
            "[[366 120]\n",
            " [119  95]]\n",
            "\n",
            "Decision Tree Classifier Accuracy: 0.6585714285714286\n",
            "Decision Tree Classifier Precision: 0.4418604651162791\n",
            "Decision Tree Classifier Recall: 0.4439252336448598\n",
            "Decision Tree Classifier f1 - score: 0.4428904428904429\n"
          ]
        },
        {
          "output_type": "display_data",
          "data": {
            "text/plain": [
              "<Figure size 432x288 with 1 Axes>"
            ],
            "image/png": "[encoded data removed]"
          },
          "metadata": {
            "needs_background": "light"
          }
        }
      ]
    },
    {
      "cell_type": "markdown",
      "source": [
        "Support Vector Machine"
      ],
      "metadata": {
        "id": "004uyJ5GkdLf"
      }
    },
    {
      "cell_type": "code",
      "source": [
        "SVM_Model= train_model(('Support Vector Machines',SVC(kernel='rbf')),'#458B00')"
      ],
      "metadata": {
        "colab": {
          "base_uri": "https://localhost:8080/",
          "height": 404
        },
        "id": "vIl5pLkLj7Y_",
        "outputId": "228ec283-77fd-4bc8-e562-60b6fe76269e"
      },
      "execution_count": null,
      "outputs": [
        {
          "output_type": "stream",
          "name": "stdout",
          "text": [
            "Confusion matrix: Support Vector Machines\n",
            "[[452  34]\n",
            " [151  63]]\n",
            "\n",
            "Support Vector Machines Accuracy: 0.7357142857142858\n",
            "Support Vector Machines Precision: 0.6494845360824743\n",
            "Support Vector Machines Recall: 0.29439252336448596\n",
            "Support Vector Machines f1 - score: 0.40514469453376206\n"
          ]
        },
        {
          "output_type": "display_data",
          "data": {
            "text/plain": [
              "<Figure size 432x288 with 1 Axes>"
            ],
            "image/png": "[encoded data removed]"
          },
          "metadata": {
            "needs_background": "light"
          }
        }
      ]
    },
    {
      "cell_type": "markdown",
      "source": [
        "K Neighbors Classifier"
      ],
      "metadata": {
        "id": "lOWCc32Pkgvw"
      }
    },
    {
      "cell_type": "code",
      "source": [
        "K_Model= train_model(('K-Nearest Neighbor',KNeighborsClassifier()),'#9932CC')"
      ],
      "metadata": {
        "colab": {
          "base_uri": "https://localhost:8080/",
          "height": 404
        },
        "id": "fJFSCk2fkLt9",
        "outputId": "18ca2a3c-74bf-47c0-9cd5-090230cd3521"
      },
      "execution_count": null,
      "outputs": [
        {
          "output_type": "stream",
          "name": "stdout",
          "text": [
            "Confusion matrix: K-Nearest Neighbor\n",
            "[[417  69]\n",
            " [151  63]]\n",
            "\n",
            "K-Nearest Neighbor Accuracy: 0.6857142857142857\n",
            "K-Nearest Neighbor Precision: 0.4772727272727273\n",
            "K-Nearest Neighbor Recall: 0.29439252336448596\n",
            "K-Nearest Neighbor f1 - score: 0.36416184971098264\n"
          ]
        },
        {
          "output_type": "display_data",
          "data": {
            "text/plain": [
              "<Figure size 432x288 with 1 Axes>"
            ],
            "image/png": "[encoded data removed]"
          },
          "metadata": {
            "needs_background": "light"
          }
        }
      ]
    },
    {
      "cell_type": "markdown",
      "source": [
        "Gradient Boosting Classifier"
      ],
      "metadata": {
        "id": "RSEmtaZwkktZ"
      }
    },
    {
      "cell_type": "code",
      "source": [
        "GBC_model=train_model(('Gradient Boosting',GradientBoostingClassifier()),'#FFFAF0')"
      ],
      "metadata": {
        "colab": {
          "base_uri": "https://localhost:8080/",
          "height": 404
        },
        "id": "zenp5DkZkUan",
        "outputId": "3da90e9d-5849-4d5c-a560-ea89e6d54eeb"
      },
      "execution_count": null,
      "outputs": [
        {
          "output_type": "stream",
          "name": "stdout",
          "text": [
            "Confusion matrix: Gradient Boosting\n",
            "[[429  57]\n",
            " [117  97]]\n",
            "\n",
            "Gradient Boosting Accuracy: 0.7514285714285714\n",
            "Gradient Boosting Precision: 0.6298701298701299\n",
            "Gradient Boosting Recall: 0.4532710280373832\n",
            "Gradient Boosting f1 - score: 0.5271739130434783\n"
          ]
        },
        {
          "output_type": "display_data",
          "data": {
            "text/plain": [
              "<Figure size 432x288 with 1 Axes>"
            ],
            "image/png": "[encoded data removed]"
          },
          "metadata": {
            "needs_background": "light"
          }
        }
      ]
    }
  ]
}